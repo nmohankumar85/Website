{
  "nbformat": 4,
  "nbformat_minor": 0,
  "metadata": {
    "colab": {
      "name": "Bo_DataScience_Challenge.ipynb",
      "version": "0.3.2",
      "provenance": [],
      "collapsed_sections": [],
      "include_colab_link": true
    },
    "kernelspec": {
      "name": "python3",
      "display_name": "Python 3"
    }
  },
  "cells": [
    {
      "cell_type": "markdown",
      "metadata": {
        "id": "view-in-github",
        "colab_type": "text"
      },
      "source": [
        "<a href=\"https://colab.research.google.com/github/nmohankumar85/Website/blob/master/Bo_DataScience_Challenge.ipynb\" target=\"_parent\"><img src=\"https://colab.research.google.com/assets/colab-badge.svg\" alt=\"Open In Colab\"/></a>"
      ]
    },
    {
      "cell_type": "markdown",
      "metadata": {
        "id": "sIMDi3laYLei",
        "colab_type": "text"
      },
      "source": [
        "**Challenge :** \"Users often present a small number of data points, from which we should extract some meaning. Often the most valuable patterns we are concerned with are repeated payments or credits. Below are 12 months of fictional transactional data. We want to better understand what are repeated payments and any patterns in those transactions.\n",
        "\n",
        "Here the task is to write python code to extract any patterns that i think are important with particular relevance to prediction. \n",
        "\n",
        "Please answer all questions; either answer A (a) or A (b) should be answered with Python code. Don’t spend more than 4 hours on this task please. \n",
        "\n",
        "A. Write code to read in the JSON file, extract the transaction data and perform an analysis on those transactions:\n",
        "\n",
        "a. Write a generic algorithm to recognise income and spending patterns of the user.  Hint: Use tools and techniques you think are appropriate in best understanding user behaviour. How would you discover repeated payments?                         \n",
        "\n",
        "b. How would you predict the next six months of transactions. Create a prediction method or function that can predict transactions based on any rules you discovered earlier. Be prepared to explain your reasoning.\n",
        "\n",
        "B. If more users were provided, explain how you would use more user data from other users to give more insight into individual data patterns.\n",
        "\n",
        "C. What pitfalls do you see in your analysis? Or the techniques used?\""
      ]
    },
    {
      "cell_type": "code",
      "metadata": {
        "id": "a-tYjd8YYxsD",
        "colab_type": "code",
        "colab": {}
      },
      "source": [
        "# Importing Libraries\n",
        "import os\n",
        "from google.colab import drive\n",
        "\n",
        "import pandas as pd\n",
        "import numpy as np\n",
        "\n",
        "import seaborn as sns"
      ],
      "execution_count": 0,
      "outputs": []
    },
    {
      "cell_type": "code",
      "metadata": {
        "id": "skIzTpRYnwEp",
        "colab_type": "code",
        "outputId": "376700d4-403f-4052-cdce-ac003493b09e",
        "colab": {
          "base_uri": "https://localhost:8080/",
          "height": 122
        }
      },
      "source": [
        "#Using the google colab for my data analysis, so mounting my google drive\n",
        "drive.mount('/content/drive')"
      ],
      "execution_count": 0,
      "outputs": [
        {
          "output_type": "stream",
          "text": [
            "Go to this URL in a browser: https://accounts.google.com/o/oauth2/auth?client_id=947318989803-6bn6qk8qdgf4n4g3pfee6491hc0brc4i.apps.googleusercontent.com&redirect_uri=urn%3Aietf%3Awg%3Aoauth%3A2.0%3Aoob&scope=email%20https%3A%2F%2Fwww.googleapis.com%2Fauth%2Fdocs.test%20https%3A%2F%2Fwww.googleapis.com%2Fauth%2Fdrive%20https%3A%2F%2Fwww.googleapis.com%2Fauth%2Fdrive.photos.readonly%20https%3A%2F%2Fwww.googleapis.com%2Fauth%2Fpeopleapi.readonly&response_type=code\n",
            "\n",
            "Enter your authorization code:\n",
            "··········\n",
            "Mounted at /content/drive\n"
          ],
          "name": "stdout"
        }
      ]
    },
    {
      "cell_type": "markdown",
      "metadata": {
        "id": "BMX-klRmgIpC",
        "colab_type": "text"
      },
      "source": [
        "Coding \"Write code to read in the JSON file, extract the transaction data and perform an analysis on those transactions\""
      ]
    },
    {
      "cell_type": "code",
      "metadata": {
        "id": "F7uoitGhn1Wk",
        "colab_type": "code",
        "outputId": "5f92452c-19fa-4901-c824-36318b845492",
        "colab": {
          "base_uri": "https://localhost:8080/",
          "height": 359
        }
      },
      "source": [
        "#Read the data from json file to dataframe\n",
        "df = pd.read_json('/content/drive/My Drive/Bonify/Data Scientist challenge.json', orient='columns')\n",
        "\n",
        "# View the first ten rows\n",
        "df.head(10)"
      ],
      "execution_count": 0,
      "outputs": [
        {
          "output_type": "execute_result",
          "data": {
            "text/html": [
              "<div>\n",
              "<style scoped>\n",
              "    .dataframe tbody tr th:only-of-type {\n",
              "        vertical-align: middle;\n",
              "    }\n",
              "\n",
              "    .dataframe tbody tr th {\n",
              "        vertical-align: top;\n",
              "    }\n",
              "\n",
              "    .dataframe thead th {\n",
              "        text-align: right;\n",
              "    }\n",
              "</style>\n",
              "<table border=\"1\" class=\"dataframe\">\n",
              "  <thead>\n",
              "    <tr style=\"text-align: right;\">\n",
              "      <th></th>\n",
              "      <th>accountNo</th>\n",
              "      <th>amount</th>\n",
              "      <th>bookingDate</th>\n",
              "      <th>bookingType</th>\n",
              "      <th>booking_id</th>\n",
              "      <th>partnerAccountIBAN</th>\n",
              "      <th>user_id</th>\n",
              "    </tr>\n",
              "  </thead>\n",
              "  <tbody>\n",
              "    <tr>\n",
              "      <th>0</th>\n",
              "      <td>781</td>\n",
              "      <td>-50</td>\n",
              "      <td>2015-07-15 02:00:03</td>\n",
              "      <td>ATM</td>\n",
              "      <td>1</td>\n",
              "      <td>None</td>\n",
              "      <td>106</td>\n",
              "    </tr>\n",
              "    <tr>\n",
              "      <th>1</th>\n",
              "      <td>781</td>\n",
              "      <td>-1000</td>\n",
              "      <td>2015-07-29 02:00:03</td>\n",
              "      <td>Rent</td>\n",
              "      <td>2</td>\n",
              "      <td>DE513</td>\n",
              "      <td>106</td>\n",
              "    </tr>\n",
              "    <tr>\n",
              "      <th>2</th>\n",
              "      <td>781</td>\n",
              "      <td>3566</td>\n",
              "      <td>2015-07-29 02:00:03</td>\n",
              "      <td>Salary</td>\n",
              "      <td>3</td>\n",
              "      <td>DE512</td>\n",
              "      <td>106</td>\n",
              "    </tr>\n",
              "    <tr>\n",
              "      <th>3</th>\n",
              "      <td>781</td>\n",
              "      <td>-160</td>\n",
              "      <td>2015-07-29 02:00:03</td>\n",
              "      <td>Installment</td>\n",
              "      <td>4</td>\n",
              "      <td>DE38900</td>\n",
              "      <td>106</td>\n",
              "    </tr>\n",
              "    <tr>\n",
              "      <th>4</th>\n",
              "      <td>781</td>\n",
              "      <td>450</td>\n",
              "      <td>2015-07-29 02:00:03</td>\n",
              "      <td>Unknown</td>\n",
              "      <td>5</td>\n",
              "      <td>DE40042</td>\n",
              "      <td>106</td>\n",
              "    </tr>\n",
              "    <tr>\n",
              "      <th>5</th>\n",
              "      <td>781</td>\n",
              "      <td>190</td>\n",
              "      <td>2015-07-29 02:00:03</td>\n",
              "      <td>Childbenefit</td>\n",
              "      <td>6</td>\n",
              "      <td>DE400423333</td>\n",
              "      <td>106</td>\n",
              "    </tr>\n",
              "    <tr>\n",
              "      <th>6</th>\n",
              "      <td>781</td>\n",
              "      <td>-50</td>\n",
              "      <td>2015-07-29 02:00:03</td>\n",
              "      <td>ATM</td>\n",
              "      <td>7</td>\n",
              "      <td>None</td>\n",
              "      <td>106</td>\n",
              "    </tr>\n",
              "    <tr>\n",
              "      <th>7</th>\n",
              "      <td>781</td>\n",
              "      <td>-50</td>\n",
              "      <td>2015-08-15 02:00:04</td>\n",
              "      <td>ATM</td>\n",
              "      <td>8</td>\n",
              "      <td>None</td>\n",
              "      <td>106</td>\n",
              "    </tr>\n",
              "    <tr>\n",
              "      <th>8</th>\n",
              "      <td>781</td>\n",
              "      <td>-1000</td>\n",
              "      <td>2015-08-29 02:00:04</td>\n",
              "      <td>Rent</td>\n",
              "      <td>9</td>\n",
              "      <td>DE513</td>\n",
              "      <td>106</td>\n",
              "    </tr>\n",
              "    <tr>\n",
              "      <th>9</th>\n",
              "      <td>781</td>\n",
              "      <td>5677</td>\n",
              "      <td>2015-08-29 02:00:04</td>\n",
              "      <td>Salary</td>\n",
              "      <td>10</td>\n",
              "      <td>DE512</td>\n",
              "      <td>106</td>\n",
              "    </tr>\n",
              "  </tbody>\n",
              "</table>\n",
              "</div>"
            ],
            "text/plain": [
              "   accountNo  amount          bookingDate   bookingType  booking_id  \\\n",
              "0        781     -50  2015-07-15 02:00:03           ATM           1   \n",
              "1        781   -1000  2015-07-29 02:00:03          Rent           2   \n",
              "2        781    3566  2015-07-29 02:00:03        Salary           3   \n",
              "3        781    -160  2015-07-29 02:00:03   Installment           4   \n",
              "4        781     450  2015-07-29 02:00:03       Unknown           5   \n",
              "5        781     190  2015-07-29 02:00:03  Childbenefit           6   \n",
              "6        781     -50  2015-07-29 02:00:03           ATM           7   \n",
              "7        781     -50  2015-08-15 02:00:04           ATM           8   \n",
              "8        781   -1000  2015-08-29 02:00:04          Rent           9   \n",
              "9        781    5677  2015-08-29 02:00:04        Salary          10   \n",
              "\n",
              "  partnerAccountIBAN  user_id  \n",
              "0               None      106  \n",
              "1              DE513      106  \n",
              "2              DE512      106  \n",
              "3            DE38900      106  \n",
              "4            DE40042      106  \n",
              "5        DE400423333      106  \n",
              "6               None      106  \n",
              "7               None      106  \n",
              "8              DE513      106  \n",
              "9              DE512      106  "
            ]
          },
          "metadata": {
            "tags": []
          },
          "execution_count": 3
        }
      ]
    },
    {
      "cell_type": "code",
      "metadata": {
        "id": "yClD8auGocGY",
        "colab_type": "code",
        "outputId": "bf1d303a-4208-4fb7-dd8f-6e269de22423",
        "colab": {
          "base_uri": "https://localhost:8080/",
          "height": 34
        }
      },
      "source": [
        "df.shape"
      ],
      "execution_count": 0,
      "outputs": [
        {
          "output_type": "execute_result",
          "data": {
            "text/plain": [
              "(96, 7)"
            ]
          },
          "metadata": {
            "tags": []
          },
          "execution_count": 13
        }
      ]
    },
    {
      "cell_type": "code",
      "metadata": {
        "id": "LpOWyyIyojbx",
        "colab_type": "code",
        "outputId": "a98e6599-633d-46e2-8160-633db45802fd",
        "colab": {
          "base_uri": "https://localhost:8080/",
          "height": 390
        }
      },
      "source": [
        "df.describe(include = 'all')"
      ],
      "execution_count": 0,
      "outputs": [
        {
          "output_type": "execute_result",
          "data": {
            "text/html": [
              "<div>\n",
              "<style scoped>\n",
              "    .dataframe tbody tr th:only-of-type {\n",
              "        vertical-align: middle;\n",
              "    }\n",
              "\n",
              "    .dataframe tbody tr th {\n",
              "        vertical-align: top;\n",
              "    }\n",
              "\n",
              "    .dataframe thead th {\n",
              "        text-align: right;\n",
              "    }\n",
              "</style>\n",
              "<table border=\"1\" class=\"dataframe\">\n",
              "  <thead>\n",
              "    <tr style=\"text-align: right;\">\n",
              "      <th></th>\n",
              "      <th>accountNo</th>\n",
              "      <th>amount</th>\n",
              "      <th>bookingDate</th>\n",
              "      <th>bookingType</th>\n",
              "      <th>booking_id</th>\n",
              "      <th>partnerAccountIBAN</th>\n",
              "      <th>user_id</th>\n",
              "    </tr>\n",
              "  </thead>\n",
              "  <tbody>\n",
              "    <tr>\n",
              "      <th>count</th>\n",
              "      <td>96.0</td>\n",
              "      <td>96.000000</td>\n",
              "      <td>96</td>\n",
              "      <td>96</td>\n",
              "      <td>96.000000</td>\n",
              "      <td>96</td>\n",
              "      <td>96.0</td>\n",
              "    </tr>\n",
              "    <tr>\n",
              "      <th>unique</th>\n",
              "      <td>NaN</td>\n",
              "      <td>NaN</td>\n",
              "      <td>24</td>\n",
              "      <td>8</td>\n",
              "      <td>NaN</td>\n",
              "      <td>10</td>\n",
              "      <td>NaN</td>\n",
              "    </tr>\n",
              "    <tr>\n",
              "      <th>top</th>\n",
              "      <td>NaN</td>\n",
              "      <td>NaN</td>\n",
              "      <td>2016-06-27 02:00:00</td>\n",
              "      <td>ATM</td>\n",
              "      <td>NaN</td>\n",
              "      <td>None</td>\n",
              "      <td>NaN</td>\n",
              "    </tr>\n",
              "    <tr>\n",
              "      <th>freq</th>\n",
              "      <td>NaN</td>\n",
              "      <td>NaN</td>\n",
              "      <td>8</td>\n",
              "      <td>23</td>\n",
              "      <td>NaN</td>\n",
              "      <td>23</td>\n",
              "      <td>NaN</td>\n",
              "    </tr>\n",
              "    <tr>\n",
              "      <th>mean</th>\n",
              "      <td>781.0</td>\n",
              "      <td>615.802083</td>\n",
              "      <td>NaN</td>\n",
              "      <td>NaN</td>\n",
              "      <td>48.500000</td>\n",
              "      <td>NaN</td>\n",
              "      <td>106.0</td>\n",
              "    </tr>\n",
              "    <tr>\n",
              "      <th>std</th>\n",
              "      <td>0.0</td>\n",
              "      <td>2549.851668</td>\n",
              "      <td>NaN</td>\n",
              "      <td>NaN</td>\n",
              "      <td>27.856777</td>\n",
              "      <td>NaN</td>\n",
              "      <td>0.0</td>\n",
              "    </tr>\n",
              "    <tr>\n",
              "      <th>min</th>\n",
              "      <td>781.0</td>\n",
              "      <td>-2600.000000</td>\n",
              "      <td>NaN</td>\n",
              "      <td>NaN</td>\n",
              "      <td>1.000000</td>\n",
              "      <td>NaN</td>\n",
              "      <td>106.0</td>\n",
              "    </tr>\n",
              "    <tr>\n",
              "      <th>25%</th>\n",
              "      <td>781.0</td>\n",
              "      <td>-160.000000</td>\n",
              "      <td>NaN</td>\n",
              "      <td>NaN</td>\n",
              "      <td>24.750000</td>\n",
              "      <td>NaN</td>\n",
              "      <td>106.0</td>\n",
              "    </tr>\n",
              "    <tr>\n",
              "      <th>50%</th>\n",
              "      <td>781.0</td>\n",
              "      <td>-50.000000</td>\n",
              "      <td>NaN</td>\n",
              "      <td>NaN</td>\n",
              "      <td>48.500000</td>\n",
              "      <td>NaN</td>\n",
              "      <td>106.0</td>\n",
              "    </tr>\n",
              "    <tr>\n",
              "      <th>75%</th>\n",
              "      <td>781.0</td>\n",
              "      <td>450.000000</td>\n",
              "      <td>NaN</td>\n",
              "      <td>NaN</td>\n",
              "      <td>72.250000</td>\n",
              "      <td>NaN</td>\n",
              "      <td>106.0</td>\n",
              "    </tr>\n",
              "    <tr>\n",
              "      <th>max</th>\n",
              "      <td>781.0</td>\n",
              "      <td>20000.000000</td>\n",
              "      <td>NaN</td>\n",
              "      <td>NaN</td>\n",
              "      <td>96.000000</td>\n",
              "      <td>NaN</td>\n",
              "      <td>106.0</td>\n",
              "    </tr>\n",
              "  </tbody>\n",
              "</table>\n",
              "</div>"
            ],
            "text/plain": [
              "        accountNo        amount          bookingDate bookingType  booking_id  \\\n",
              "count        96.0     96.000000                   96          96   96.000000   \n",
              "unique        NaN           NaN                   24           8         NaN   \n",
              "top           NaN           NaN  2016-06-27 02:00:00         ATM         NaN   \n",
              "freq          NaN           NaN                    8          23         NaN   \n",
              "mean        781.0    615.802083                  NaN         NaN   48.500000   \n",
              "std           0.0   2549.851668                  NaN         NaN   27.856777   \n",
              "min         781.0  -2600.000000                  NaN         NaN    1.000000   \n",
              "25%         781.0   -160.000000                  NaN         NaN   24.750000   \n",
              "50%         781.0    -50.000000                  NaN         NaN   48.500000   \n",
              "75%         781.0    450.000000                  NaN         NaN   72.250000   \n",
              "max         781.0  20000.000000                  NaN         NaN   96.000000   \n",
              "\n",
              "       partnerAccountIBAN  user_id  \n",
              "count                  96     96.0  \n",
              "unique                 10      NaN  \n",
              "top                  None      NaN  \n",
              "freq                   23      NaN  \n",
              "mean                  NaN    106.0  \n",
              "std                   NaN      0.0  \n",
              "min                   NaN    106.0  \n",
              "25%                   NaN    106.0  \n",
              "50%                   NaN    106.0  \n",
              "75%                   NaN    106.0  \n",
              "max                   NaN    106.0  "
            ]
          },
          "metadata": {
            "tags": []
          },
          "execution_count": 14
        }
      ]
    },
    {
      "cell_type": "code",
      "metadata": {
        "id": "weON6WkyotkF",
        "colab_type": "code",
        "outputId": "3eb71630-4492-411e-8be3-bb7b15d94aea",
        "colab": {
          "base_uri": "https://localhost:8080/",
          "height": 51
        }
      },
      "source": [
        "#checking the unique entries in the booking type to understand the various transactions\n",
        "df['bookingType'].unique()"
      ],
      "execution_count": 0,
      "outputs": [
        {
          "output_type": "execute_result",
          "data": {
            "text/plain": [
              "array(['ATM', 'Rent', 'Salary', 'Installment', 'Unknown', 'Childbenefit',\n",
              "       'GasStation', 'CarInsurance'], dtype=object)"
            ]
          },
          "metadata": {
            "tags": []
          },
          "execution_count": 4
        }
      ]
    },
    {
      "cell_type": "code",
      "metadata": {
        "id": "zPt_xkq1bSMP",
        "colab_type": "code",
        "outputId": "805993d0-96ef-4880-a726-ff96dc44bbe7",
        "colab": {
          "base_uri": "https://localhost:8080/",
          "height": 153
        }
      },
      "source": [
        "#Checking the datatypes of each columns in dataframe\n",
        "df.dtypes"
      ],
      "execution_count": 0,
      "outputs": [
        {
          "output_type": "execute_result",
          "data": {
            "text/plain": [
              "accountNo              int64\n",
              "amount                 int64\n",
              "bookingDate           object\n",
              "bookingType           object\n",
              "booking_id             int64\n",
              "partnerAccountIBAN    object\n",
              "user_id                int64\n",
              "dtype: object"
            ]
          },
          "metadata": {
            "tags": []
          },
          "execution_count": 5
        }
      ]
    },
    {
      "cell_type": "code",
      "metadata": {
        "id": "dzn9t5O0tL52",
        "colab_type": "code",
        "outputId": "051f2b81-ba85-4dbf-9edd-07f260de8f5e",
        "colab": {
          "base_uri": "https://localhost:8080/",
          "height": 975
        }
      },
      "source": [
        "#Visualizing the missing values in dataframe\n",
        "!pip install missingno\n",
        "import missingno as msno\n",
        "# Visualizing the missing vlues in each feature of a training data\n",
        "msno.matrix(df)"
      ],
      "execution_count": 0,
      "outputs": [
        {
          "output_type": "stream",
          "text": [
            "Requirement already satisfied: missingno in /usr/local/lib/python3.6/dist-packages (0.4.1)\n",
            "Requirement already satisfied: matplotlib in /usr/local/lib/python3.6/dist-packages (from missingno) (3.0.3)\n",
            "Requirement already satisfied: seaborn in /usr/local/lib/python3.6/dist-packages (from missingno) (0.9.0)\n",
            "Requirement already satisfied: numpy in /usr/local/lib/python3.6/dist-packages (from missingno) (1.16.3)\n",
            "Requirement already satisfied: scipy in /usr/local/lib/python3.6/dist-packages (from missingno) (1.2.1)\n",
            "Requirement already satisfied: kiwisolver>=1.0.1 in /usr/local/lib/python3.6/dist-packages (from matplotlib->missingno) (1.1.0)\n",
            "Requirement already satisfied: pyparsing!=2.0.4,!=2.1.2,!=2.1.6,>=2.0.1 in /usr/local/lib/python3.6/dist-packages (from matplotlib->missingno) (2.4.0)\n",
            "Requirement already satisfied: cycler>=0.10 in /usr/local/lib/python3.6/dist-packages (from matplotlib->missingno) (0.10.0)\n",
            "Requirement already satisfied: python-dateutil>=2.1 in /usr/local/lib/python3.6/dist-packages (from matplotlib->missingno) (2.5.3)\n",
            "Requirement already satisfied: pandas>=0.15.2 in /usr/local/lib/python3.6/dist-packages (from seaborn->missingno) (0.24.2)\n",
            "Requirement already satisfied: setuptools in /usr/local/lib/python3.6/dist-packages (from kiwisolver>=1.0.1->matplotlib->missingno) (41.0.1)\n",
            "Requirement already satisfied: six in /usr/local/lib/python3.6/dist-packages (from cycler>=0.10->matplotlib->missingno) (1.12.0)\n",
            "Requirement already satisfied: pytz>=2011k in /usr/local/lib/python3.6/dist-packages (from pandas>=0.15.2->seaborn->missingno) (2018.9)\n"
          ],
          "name": "stdout"
        },
        {
          "output_type": "execute_result",
          "data": {
            "text/plain": [
              "<matplotlib.axes._subplots.AxesSubplot at 0x7f6955a76da0>"
            ]
          },
          "metadata": {
            "tags": []
          },
          "execution_count": 17
        },
        {
          "output_type": "display_data",
          "data": {
            "image/png": "[encoded data removed]",
            "text/plain": [
              "<Figure size 1800x720 with 2 Axes>"
            ]
          },
          "metadata": {
            "tags": []
          }
        }
      ]
    },
    {
      "cell_type": "code",
      "metadata": {
        "id": "TemmZ66u8hR3",
        "colab_type": "code",
        "outputId": "fbce3a7a-c148-4000-cfdf-b757de3c1629",
        "colab": {
          "base_uri": "https://localhost:8080/",
          "height": 204
        }
      },
      "source": [
        "#import datetime\n",
        "df['month'] = pd.DatetimeIndex(df['bookingDate']).month\n",
        "df['date'] = pd.DatetimeIndex(df['bookingDate']).day\n",
        "df.head()"
      ],
      "execution_count": 0,
      "outputs": [
        {
          "output_type": "execute_result",
          "data": {
            "text/html": [
              "<div>\n",
              "<style scoped>\n",
              "    .dataframe tbody tr th:only-of-type {\n",
              "        vertical-align: middle;\n",
              "    }\n",
              "\n",
              "    .dataframe tbody tr th {\n",
              "        vertical-align: top;\n",
              "    }\n",
              "\n",
              "    .dataframe thead th {\n",
              "        text-align: right;\n",
              "    }\n",
              "</style>\n",
              "<table border=\"1\" class=\"dataframe\">\n",
              "  <thead>\n",
              "    <tr style=\"text-align: right;\">\n",
              "      <th></th>\n",
              "      <th>accountNo</th>\n",
              "      <th>amount</th>\n",
              "      <th>bookingDate</th>\n",
              "      <th>bookingType</th>\n",
              "      <th>booking_id</th>\n",
              "      <th>partnerAccountIBAN</th>\n",
              "      <th>user_id</th>\n",
              "      <th>month</th>\n",
              "      <th>date</th>\n",
              "    </tr>\n",
              "  </thead>\n",
              "  <tbody>\n",
              "    <tr>\n",
              "      <th>0</th>\n",
              "      <td>781</td>\n",
              "      <td>-50</td>\n",
              "      <td>2015-07-15 02:00:03</td>\n",
              "      <td>ATM</td>\n",
              "      <td>1</td>\n",
              "      <td>None</td>\n",
              "      <td>106</td>\n",
              "      <td>7</td>\n",
              "      <td>15</td>\n",
              "    </tr>\n",
              "    <tr>\n",
              "      <th>1</th>\n",
              "      <td>781</td>\n",
              "      <td>-1000</td>\n",
              "      <td>2015-07-29 02:00:03</td>\n",
              "      <td>Rent</td>\n",
              "      <td>2</td>\n",
              "      <td>DE513</td>\n",
              "      <td>106</td>\n",
              "      <td>7</td>\n",
              "      <td>29</td>\n",
              "    </tr>\n",
              "    <tr>\n",
              "      <th>2</th>\n",
              "      <td>781</td>\n",
              "      <td>3566</td>\n",
              "      <td>2015-07-29 02:00:03</td>\n",
              "      <td>Salary</td>\n",
              "      <td>3</td>\n",
              "      <td>DE512</td>\n",
              "      <td>106</td>\n",
              "      <td>7</td>\n",
              "      <td>29</td>\n",
              "    </tr>\n",
              "    <tr>\n",
              "      <th>3</th>\n",
              "      <td>781</td>\n",
              "      <td>-160</td>\n",
              "      <td>2015-07-29 02:00:03</td>\n",
              "      <td>Installment</td>\n",
              "      <td>4</td>\n",
              "      <td>DE38900</td>\n",
              "      <td>106</td>\n",
              "      <td>7</td>\n",
              "      <td>29</td>\n",
              "    </tr>\n",
              "    <tr>\n",
              "      <th>4</th>\n",
              "      <td>781</td>\n",
              "      <td>450</td>\n",
              "      <td>2015-07-29 02:00:03</td>\n",
              "      <td>Unknown</td>\n",
              "      <td>5</td>\n",
              "      <td>DE40042</td>\n",
              "      <td>106</td>\n",
              "      <td>7</td>\n",
              "      <td>29</td>\n",
              "    </tr>\n",
              "  </tbody>\n",
              "</table>\n",
              "</div>"
            ],
            "text/plain": [
              "   accountNo  amount          bookingDate  bookingType  booking_id  \\\n",
              "0        781     -50  2015-07-15 02:00:03          ATM           1   \n",
              "1        781   -1000  2015-07-29 02:00:03         Rent           2   \n",
              "2        781    3566  2015-07-29 02:00:03       Salary           3   \n",
              "3        781    -160  2015-07-29 02:00:03  Installment           4   \n",
              "4        781     450  2015-07-29 02:00:03      Unknown           5   \n",
              "\n",
              "  partnerAccountIBAN  user_id  month  date  \n",
              "0               None      106      7    15  \n",
              "1              DE513      106      7    29  \n",
              "2              DE512      106      7    29  \n",
              "3            DE38900      106      7    29  \n",
              "4            DE40042      106      7    29  "
            ]
          },
          "metadata": {
            "tags": []
          },
          "execution_count": 13
        }
      ]
    },
    {
      "cell_type": "code",
      "metadata": {
        "id": "dUafGi4c7afx",
        "colab_type": "code",
        "outputId": "f45e9cd7-2b09-4128-9f4f-1b96827371ee",
        "colab": {
          "base_uri": "https://localhost:8080/",
          "height": 1113
        }
      },
      "source": [
        "# Pair plot to see both distribution of single features and relationships between two features \n",
        "sns.pairplot(df.dropna())"
      ],
      "execution_count": 0,
      "outputs": [
        {
          "output_type": "execute_result",
          "data": {
            "text/plain": [
              "<seaborn.axisgrid.PairGrid at 0x7f61e9b7ac18>"
            ]
          },
          "metadata": {
            "tags": []
          },
          "execution_count": 14
        },
        {
          "output_type": "display_data",
          "data": {
            "image/png": "[encoded data removed]",
            "text/plain": [
              "<Figure size 1080x1080 with 42 Axes>"
            ]
          },
          "metadata": {
            "tags": []
          }
        }
      ]
    },
    {
      "cell_type": "markdown",
      "metadata": {
        "id": "Cw86xYeEkKgp",
        "colab_type": "text"
      },
      "source": [
        "###At the first look of the data, it shows no specific trend and it is a non linear data. Also it seems amount, bookingDate and bookingType are enough to build a prediction algorithm parameters and the remaining parameters does not seems to have a correlation.\n"
      ]
    },
    {
      "cell_type": "code",
      "metadata": {
        "id": "7QqGc1GRtlfE",
        "colab_type": "code",
        "outputId": "32be8e9f-b113-46bd-c977-57ead3a661ac",
        "colab": {
          "base_uri": "https://localhost:8080/",
          "height": 286
        }
      },
      "source": [
        "#Plotting the amount to see the trend\n",
        "import matplotlib.pyplot as plt\n",
        "#plt.plot(df['bookingDate'],df['amount'],'ro')\n",
        "plt.plot(df['amount'],'ro')\n",
        "plt.ylabel('amount')\n",
        "plt.show"
      ],
      "execution_count": 0,
      "outputs": [
        {
          "output_type": "execute_result",
          "data": {
            "text/plain": [
              "<function matplotlib.pyplot.show>"
            ]
          },
          "metadata": {
            "tags": []
          },
          "execution_count": 8
        },
        {
          "output_type": "display_data",
          "data": {
            "image/png": "[encoded data removed]",
            "text/plain": [
              "<Figure size 432x288 with 1 Axes>"
            ]
          },
          "metadata": {
            "tags": []
          }
        }
      ]
    },
    {
      "cell_type": "markdown",
      "metadata": {
        "id": "GDnYQ3M4ksrc",
        "colab_type": "text"
      },
      "source": [
        "### From analysis so far, i can understand that any amount which is a positive number is an income and a negetive number is an expense."
      ]
    },
    {
      "cell_type": "code",
      "metadata": {
        "id": "R-8hvQ7R3rnT",
        "colab_type": "code",
        "outputId": "98b28c53-6163-49d6-bc27-bce1b2447fc4",
        "colab": {
          "base_uri": "https://localhost:8080/",
          "height": 204
        }
      },
      "source": [
        "#Extracting only income transactions\n",
        "df_income = df[df['amount']>0]\n",
        "df_income.head()"
      ],
      "execution_count": 0,
      "outputs": [
        {
          "output_type": "execute_result",
          "data": {
            "text/html": [
              "<div>\n",
              "<style scoped>\n",
              "    .dataframe tbody tr th:only-of-type {\n",
              "        vertical-align: middle;\n",
              "    }\n",
              "\n",
              "    .dataframe tbody tr th {\n",
              "        vertical-align: top;\n",
              "    }\n",
              "\n",
              "    .dataframe thead th {\n",
              "        text-align: right;\n",
              "    }\n",
              "</style>\n",
              "<table border=\"1\" class=\"dataframe\">\n",
              "  <thead>\n",
              "    <tr style=\"text-align: right;\">\n",
              "      <th></th>\n",
              "      <th>accountNo</th>\n",
              "      <th>amount</th>\n",
              "      <th>bookingDate</th>\n",
              "      <th>bookingType</th>\n",
              "      <th>booking_id</th>\n",
              "      <th>partnerAccountIBAN</th>\n",
              "      <th>user_id</th>\n",
              "      <th>month</th>\n",
              "      <th>date</th>\n",
              "    </tr>\n",
              "  </thead>\n",
              "  <tbody>\n",
              "    <tr>\n",
              "      <th>2</th>\n",
              "      <td>781</td>\n",
              "      <td>3566</td>\n",
              "      <td>2015-07-29 02:00:03</td>\n",
              "      <td>Salary</td>\n",
              "      <td>3</td>\n",
              "      <td>DE512</td>\n",
              "      <td>106</td>\n",
              "      <td>7</td>\n",
              "      <td>29</td>\n",
              "    </tr>\n",
              "    <tr>\n",
              "      <th>4</th>\n",
              "      <td>781</td>\n",
              "      <td>450</td>\n",
              "      <td>2015-07-29 02:00:03</td>\n",
              "      <td>Unknown</td>\n",
              "      <td>5</td>\n",
              "      <td>DE40042</td>\n",
              "      <td>106</td>\n",
              "      <td>7</td>\n",
              "      <td>29</td>\n",
              "    </tr>\n",
              "    <tr>\n",
              "      <th>5</th>\n",
              "      <td>781</td>\n",
              "      <td>190</td>\n",
              "      <td>2015-07-29 02:00:03</td>\n",
              "      <td>Childbenefit</td>\n",
              "      <td>6</td>\n",
              "      <td>DE400423333</td>\n",
              "      <td>106</td>\n",
              "      <td>7</td>\n",
              "      <td>29</td>\n",
              "    </tr>\n",
              "    <tr>\n",
              "      <th>9</th>\n",
              "      <td>781</td>\n",
              "      <td>5677</td>\n",
              "      <td>2015-08-29 02:00:04</td>\n",
              "      <td>Salary</td>\n",
              "      <td>10</td>\n",
              "      <td>DE512</td>\n",
              "      <td>106</td>\n",
              "      <td>8</td>\n",
              "      <td>29</td>\n",
              "    </tr>\n",
              "    <tr>\n",
              "      <th>11</th>\n",
              "      <td>781</td>\n",
              "      <td>450</td>\n",
              "      <td>2015-08-29 02:00:04</td>\n",
              "      <td>Unknown</td>\n",
              "      <td>12</td>\n",
              "      <td>DE40042</td>\n",
              "      <td>106</td>\n",
              "      <td>8</td>\n",
              "      <td>29</td>\n",
              "    </tr>\n",
              "  </tbody>\n",
              "</table>\n",
              "</div>"
            ],
            "text/plain": [
              "    accountNo  amount          bookingDate   bookingType  booking_id  \\\n",
              "2         781    3566  2015-07-29 02:00:03        Salary           3   \n",
              "4         781     450  2015-07-29 02:00:03       Unknown           5   \n",
              "5         781     190  2015-07-29 02:00:03  Childbenefit           6   \n",
              "9         781    5677  2015-08-29 02:00:04        Salary          10   \n",
              "11        781     450  2015-08-29 02:00:04       Unknown          12   \n",
              "\n",
              "   partnerAccountIBAN  user_id  month  date  \n",
              "2               DE512      106      7    29  \n",
              "4             DE40042      106      7    29  \n",
              "5         DE400423333      106      7    29  \n",
              "9               DE512      106      8    29  \n",
              "11            DE40042      106      8    29  "
            ]
          },
          "metadata": {
            "tags": []
          },
          "execution_count": 38
        }
      ]
    },
    {
      "cell_type": "code",
      "metadata": {
        "id": "BKFGDlIYjOXV",
        "colab_type": "code",
        "outputId": "f0a9edca-8baa-4b1c-8257-e6224c4f20e7",
        "colab": {
          "base_uri": "https://localhost:8080/",
          "height": 286
        }
      },
      "source": [
        "#Plotting the income amount to see the trend\n",
        "plt.plot(df_income['amount'],'ro')\n",
        "plt.ylabel('amount')\n",
        "plt.show"
      ],
      "execution_count": 0,
      "outputs": [
        {
          "output_type": "execute_result",
          "data": {
            "text/plain": [
              "<function matplotlib.pyplot.show>"
            ]
          },
          "metadata": {
            "tags": []
          },
          "execution_count": 39
        },
        {
          "output_type": "display_data",
          "data": {
            "image/png": "[encoded data removed]",
            "text/plain": [
              "<Figure size 432x288 with 1 Axes>"
            ]
          },
          "metadata": {
            "tags": []
          }
        }
      ]
    },
    {
      "cell_type": "code",
      "metadata": {
        "id": "DQRN_hyx6bhC",
        "colab_type": "code",
        "outputId": "41dcad9a-c508-41d8-8202-9e741f1e63df",
        "colab": {
          "base_uri": "https://localhost:8080/",
          "height": 204
        }
      },
      "source": [
        "#Extracting only expense transactions\n",
        "df_expense = df[df['amount']<0]\n",
        "df_expense.head()"
      ],
      "execution_count": 0,
      "outputs": [
        {
          "output_type": "execute_result",
          "data": {
            "text/html": [
              "<div>\n",
              "<style scoped>\n",
              "    .dataframe tbody tr th:only-of-type {\n",
              "        vertical-align: middle;\n",
              "    }\n",
              "\n",
              "    .dataframe tbody tr th {\n",
              "        vertical-align: top;\n",
              "    }\n",
              "\n",
              "    .dataframe thead th {\n",
              "        text-align: right;\n",
              "    }\n",
              "</style>\n",
              "<table border=\"1\" class=\"dataframe\">\n",
              "  <thead>\n",
              "    <tr style=\"text-align: right;\">\n",
              "      <th></th>\n",
              "      <th>accountNo</th>\n",
              "      <th>amount</th>\n",
              "      <th>bookingDate</th>\n",
              "      <th>bookingType</th>\n",
              "      <th>booking_id</th>\n",
              "      <th>partnerAccountIBAN</th>\n",
              "      <th>user_id</th>\n",
              "    </tr>\n",
              "  </thead>\n",
              "  <tbody>\n",
              "    <tr>\n",
              "      <th>0</th>\n",
              "      <td>781</td>\n",
              "      <td>-50</td>\n",
              "      <td>2015-07-15 02:00:03</td>\n",
              "      <td>ATM</td>\n",
              "      <td>1</td>\n",
              "      <td>None</td>\n",
              "      <td>106</td>\n",
              "    </tr>\n",
              "    <tr>\n",
              "      <th>1</th>\n",
              "      <td>781</td>\n",
              "      <td>-1000</td>\n",
              "      <td>2015-07-29 02:00:03</td>\n",
              "      <td>Rent</td>\n",
              "      <td>2</td>\n",
              "      <td>DE513</td>\n",
              "      <td>106</td>\n",
              "    </tr>\n",
              "    <tr>\n",
              "      <th>3</th>\n",
              "      <td>781</td>\n",
              "      <td>-160</td>\n",
              "      <td>2015-07-29 02:00:03</td>\n",
              "      <td>Installment</td>\n",
              "      <td>4</td>\n",
              "      <td>DE38900</td>\n",
              "      <td>106</td>\n",
              "    </tr>\n",
              "    <tr>\n",
              "      <th>6</th>\n",
              "      <td>781</td>\n",
              "      <td>-50</td>\n",
              "      <td>2015-07-29 02:00:03</td>\n",
              "      <td>ATM</td>\n",
              "      <td>7</td>\n",
              "      <td>None</td>\n",
              "      <td>106</td>\n",
              "    </tr>\n",
              "    <tr>\n",
              "      <th>7</th>\n",
              "      <td>781</td>\n",
              "      <td>-50</td>\n",
              "      <td>2015-08-15 02:00:04</td>\n",
              "      <td>ATM</td>\n",
              "      <td>8</td>\n",
              "      <td>None</td>\n",
              "      <td>106</td>\n",
              "    </tr>\n",
              "  </tbody>\n",
              "</table>\n",
              "</div>"
            ],
            "text/plain": [
              "   accountNo  amount          bookingDate  bookingType  booking_id  \\\n",
              "0        781     -50  2015-07-15 02:00:03          ATM           1   \n",
              "1        781   -1000  2015-07-29 02:00:03         Rent           2   \n",
              "3        781    -160  2015-07-29 02:00:03  Installment           4   \n",
              "6        781     -50  2015-07-29 02:00:03          ATM           7   \n",
              "7        781     -50  2015-08-15 02:00:04          ATM           8   \n",
              "\n",
              "  partnerAccountIBAN  user_id  \n",
              "0               None      106  \n",
              "1              DE513      106  \n",
              "3            DE38900      106  \n",
              "6               None      106  \n",
              "7               None      106  "
            ]
          },
          "metadata": {
            "tags": []
          },
          "execution_count": 10
        }
      ]
    },
    {
      "cell_type": "code",
      "metadata": {
        "id": "Cq9ceea-jfQy",
        "colab_type": "code",
        "outputId": "8040e715-0ac5-4462-c114-531a46d33d37",
        "colab": {
          "base_uri": "https://localhost:8080/",
          "height": 286
        }
      },
      "source": [
        "#Plotting the expense amount to see the trend\n",
        "plt.plot(df_expense['amount'],'ro')\n",
        "plt.ylabel('amount')\n",
        "plt.show"
      ],
      "execution_count": 0,
      "outputs": [
        {
          "output_type": "execute_result",
          "data": {
            "text/plain": [
              "<function matplotlib.pyplot.show>"
            ]
          },
          "metadata": {
            "tags": []
          },
          "execution_count": 40
        },
        {
          "output_type": "display_data",
          "data": {
            "image/png": "[encoded data removed]",
            "text/plain": [
              "<Figure size 432x288 with 1 Axes>"
            ]
          },
          "metadata": {
            "tags": []
          }
        }
      ]
    },
    {
      "cell_type": "code",
      "metadata": {
        "id": "IvUPt7qgxLN2",
        "colab_type": "code",
        "outputId": "1c6beeee-a2a1-448f-84c2-059deb33ab7f",
        "colab": {
          "base_uri": "https://localhost:8080/",
          "height": 204
        }
      },
      "source": [
        "#extracting month and day from date\n",
        "df['month'] = pd.DatetimeIndex(df['bookingDate']).month\n",
        "df['date'] = pd.DatetimeIndex(df['bookingDate']).day\n",
        "df.head()"
      ],
      "execution_count": 0,
      "outputs": [
        {
          "output_type": "execute_result",
          "data": {
            "text/html": [
              "<div>\n",
              "<style scoped>\n",
              "    .dataframe tbody tr th:only-of-type {\n",
              "        vertical-align: middle;\n",
              "    }\n",
              "\n",
              "    .dataframe tbody tr th {\n",
              "        vertical-align: top;\n",
              "    }\n",
              "\n",
              "    .dataframe thead th {\n",
              "        text-align: right;\n",
              "    }\n",
              "</style>\n",
              "<table border=\"1\" class=\"dataframe\">\n",
              "  <thead>\n",
              "    <tr style=\"text-align: right;\">\n",
              "      <th></th>\n",
              "      <th>accountNo</th>\n",
              "      <th>amount</th>\n",
              "      <th>bookingDate</th>\n",
              "      <th>bookingType</th>\n",
              "      <th>booking_id</th>\n",
              "      <th>partnerAccountIBAN</th>\n",
              "      <th>user_id</th>\n",
              "      <th>month</th>\n",
              "      <th>date</th>\n",
              "    </tr>\n",
              "  </thead>\n",
              "  <tbody>\n",
              "    <tr>\n",
              "      <th>0</th>\n",
              "      <td>781</td>\n",
              "      <td>-50</td>\n",
              "      <td>2015-07-15 02:00:03</td>\n",
              "      <td>ATM</td>\n",
              "      <td>1</td>\n",
              "      <td>None</td>\n",
              "      <td>106</td>\n",
              "      <td>7</td>\n",
              "      <td>15</td>\n",
              "    </tr>\n",
              "    <tr>\n",
              "      <th>1</th>\n",
              "      <td>781</td>\n",
              "      <td>-1000</td>\n",
              "      <td>2015-07-29 02:00:03</td>\n",
              "      <td>Rent</td>\n",
              "      <td>2</td>\n",
              "      <td>DE513</td>\n",
              "      <td>106</td>\n",
              "      <td>7</td>\n",
              "      <td>29</td>\n",
              "    </tr>\n",
              "    <tr>\n",
              "      <th>2</th>\n",
              "      <td>781</td>\n",
              "      <td>3566</td>\n",
              "      <td>2015-07-29 02:00:03</td>\n",
              "      <td>Salary</td>\n",
              "      <td>3</td>\n",
              "      <td>DE512</td>\n",
              "      <td>106</td>\n",
              "      <td>7</td>\n",
              "      <td>29</td>\n",
              "    </tr>\n",
              "    <tr>\n",
              "      <th>3</th>\n",
              "      <td>781</td>\n",
              "      <td>-160</td>\n",
              "      <td>2015-07-29 02:00:03</td>\n",
              "      <td>Installment</td>\n",
              "      <td>4</td>\n",
              "      <td>DE38900</td>\n",
              "      <td>106</td>\n",
              "      <td>7</td>\n",
              "      <td>29</td>\n",
              "    </tr>\n",
              "    <tr>\n",
              "      <th>4</th>\n",
              "      <td>781</td>\n",
              "      <td>450</td>\n",
              "      <td>2015-07-29 02:00:03</td>\n",
              "      <td>Unknown</td>\n",
              "      <td>5</td>\n",
              "      <td>DE40042</td>\n",
              "      <td>106</td>\n",
              "      <td>7</td>\n",
              "      <td>29</td>\n",
              "    </tr>\n",
              "  </tbody>\n",
              "</table>\n",
              "</div>"
            ],
            "text/plain": [
              "   accountNo  amount          bookingDate  bookingType  booking_id  \\\n",
              "0        781     -50  2015-07-15 02:00:03          ATM           1   \n",
              "1        781   -1000  2015-07-29 02:00:03         Rent           2   \n",
              "2        781    3566  2015-07-29 02:00:03       Salary           3   \n",
              "3        781    -160  2015-07-29 02:00:03  Installment           4   \n",
              "4        781     450  2015-07-29 02:00:03      Unknown           5   \n",
              "\n",
              "  partnerAccountIBAN  user_id  month  date  \n",
              "0               None      106      7    15  \n",
              "1              DE513      106      7    29  \n",
              "2              DE512      106      7    29  \n",
              "3            DE38900      106      7    29  \n",
              "4            DE40042      106      7    29  "
            ]
          },
          "metadata": {
            "tags": []
          },
          "execution_count": 8
        }
      ]
    },
    {
      "cell_type": "code",
      "metadata": {
        "id": "oR2u3RLRgbu7",
        "colab_type": "code",
        "colab": {}
      },
      "source": [
        "Below code answers \"Write a generic algorithm to recognise spending patterns of the user\""
      ],
      "execution_count": 0,
      "outputs": []
    },
    {
      "cell_type": "code",
      "metadata": {
        "id": "tf3tXcNBUCI7",
        "colab_type": "code",
        "colab": {}
      },
      "source": [
        "# This function will print the repeating pattern of each transaction type\n",
        "# (i.e, in Months or Days)\n",
        "def get_repeated_transaction_type(data: pd.DataFrame):\n",
        "    try:\n",
        "        # validate input\n",
        "        if len(data) < 1:\n",
        "            raise ValueError(\"Empty Data\")\n",
        "    \n",
        "        # get the booking types value counts\n",
        "        booking_types = pd.DataFrame(df['bookingType'].value_counts())\n",
        "        \n",
        "        # form data frame with booking types and the count for each booking type\n",
        "        booking_types = booking_types.rename(columns = {\"bookingType\": \"count\"})\n",
        "        booking_types['bookingType'] = booking_types.index\n",
        "        booking_types = booking_types.reset_index(drop=True)\n",
        "        \n",
        "        # loop through each booking type and print the repeating pattern\n",
        "        for i, booking_type in enumerate(booking_types['bookingType']):\n",
        "            # get the booking type count\n",
        "            count = booking_types['count'][i]\n",
        "            \n",
        "            # assuming the data is one year long so dividing the 12 by count to get the number of months\n",
        "            # this 12 can be changed later. due to time constraint fixed as 12.\n",
        "            month_count = 12/count\n",
        "            \n",
        "            # if month_count is less than 1 then get the number of days \n",
        "            days = 0\n",
        "            # if month_count is around 0.9 then rounding to the 1 month\n",
        "            if month_count < 1 and month_count > 0.9:\n",
        "                final_count = 1\n",
        "                days = 0\n",
        "            # if count is less than 0.9 then calculating the days\n",
        "            elif month_count < 1:\n",
        "                final_count = int(month_count * 30)\n",
        "                days = 1\n",
        "            else:\n",
        "                final_count = int(month_count)\n",
        "                days = 0\n",
        "                \n",
        "            pattern_type = ''\n",
        "            if days == 1:\n",
        "                pattern_type = \"Days\"        \n",
        "            elif final_count == 1:\n",
        "                pattern_type = \"Month\"\n",
        "            elif final_count > 1:\n",
        "                pattern_type = \"Months\"\n",
        "            \n",
        "            # print the pattern\n",
        "            print(\"%s is repeating every %d %s\"%(booking_type, final_count, pattern_type))\n",
        "    # handle the exception\n",
        "    except BaseException as exception:\n",
        "        print(exception)"
      ],
      "execution_count": 0,
      "outputs": []
    },
    {
      "cell_type": "code",
      "metadata": {
        "id": "UpNmFXZrwOUb",
        "colab_type": "code",
        "outputId": "6bd044a8-2807-4591-f601-48fbaf0f5f1d",
        "colab": {
          "base_uri": "https://localhost:8080/",
          "height": 153
        }
      },
      "source": [
        "#Calling function\n",
        "get_repeated_transaction_type(df)"
      ],
      "execution_count": 0,
      "outputs": [
        {
          "output_type": "stream",
          "text": [
            "ATM is repeating every 15 Days\n",
            "Unknown is repeating every 1 Month\n",
            "Installment is repeating every 1 Month\n",
            "Salary is repeating every 1 Month\n",
            "Childbenefit is repeating every 1 Month\n",
            "Rent is repeating every 1 Month\n",
            "GasStation is repeating every 1 Month\n",
            "CarInsurance is repeating every 6 Months\n"
          ],
          "name": "stdout"
        }
      ]
    },
    {
      "cell_type": "markdown",
      "metadata": {
        "id": "N6ZiE0kZfwbg",
        "colab_type": "text"
      },
      "source": [
        "**Predictive Model Building :  This part of the code predicts the spending pattern of the user for next 6 months.**"
      ]
    },
    {
      "cell_type": "code",
      "metadata": {
        "id": "Kwg5EZoJbQdP",
        "colab_type": "code",
        "outputId": "eff1620e-3c0a-4883-ab40-414cb0581a26",
        "colab": {
          "base_uri": "https://localhost:8080/",
          "height": 204
        }
      },
      "source": [
        "#extract  expenditure and the income intoseparate data frame with only amount and bookingDate columns\n",
        "df_exp = df[['amount','bookingDate']][df['amount']<0]\n",
        "df_income = df[['amount','bookingDate']][df['amount']>0]\n",
        "df_income.head()"
      ],
      "execution_count": 0,
      "outputs": [
        {
          "output_type": "execute_result",
          "data": {
            "text/html": [
              "<div>\n",
              "<style scoped>\n",
              "    .dataframe tbody tr th:only-of-type {\n",
              "        vertical-align: middle;\n",
              "    }\n",
              "\n",
              "    .dataframe tbody tr th {\n",
              "        vertical-align: top;\n",
              "    }\n",
              "\n",
              "    .dataframe thead th {\n",
              "        text-align: right;\n",
              "    }\n",
              "</style>\n",
              "<table border=\"1\" class=\"dataframe\">\n",
              "  <thead>\n",
              "    <tr style=\"text-align: right;\">\n",
              "      <th></th>\n",
              "      <th>amount</th>\n",
              "      <th>bookingDate</th>\n",
              "    </tr>\n",
              "  </thead>\n",
              "  <tbody>\n",
              "    <tr>\n",
              "      <th>2</th>\n",
              "      <td>3566</td>\n",
              "      <td>2015-07-29 02:00:03</td>\n",
              "    </tr>\n",
              "    <tr>\n",
              "      <th>4</th>\n",
              "      <td>450</td>\n",
              "      <td>2015-07-29 02:00:03</td>\n",
              "    </tr>\n",
              "    <tr>\n",
              "      <th>5</th>\n",
              "      <td>190</td>\n",
              "      <td>2015-07-29 02:00:03</td>\n",
              "    </tr>\n",
              "    <tr>\n",
              "      <th>9</th>\n",
              "      <td>5677</td>\n",
              "      <td>2015-08-29 02:00:04</td>\n",
              "    </tr>\n",
              "    <tr>\n",
              "      <th>11</th>\n",
              "      <td>450</td>\n",
              "      <td>2015-08-29 02:00:04</td>\n",
              "    </tr>\n",
              "  </tbody>\n",
              "</table>\n",
              "</div>"
            ],
            "text/plain": [
              "    amount          bookingDate\n",
              "2     3566  2015-07-29 02:00:03\n",
              "4      450  2015-07-29 02:00:03\n",
              "5      190  2015-07-29 02:00:03\n",
              "9     5677  2015-08-29 02:00:04\n",
              "11     450  2015-08-29 02:00:04"
            ]
          },
          "metadata": {
            "tags": []
          },
          "execution_count": 37
        }
      ]
    },
    {
      "cell_type": "code",
      "metadata": {
        "id": "iFecIvvHFBUB",
        "colab_type": "code",
        "colab": {}
      },
      "source": [
        "#Building the prediction algorithm ARIMA to predict the next 6 months transaction.\n",
        "from statsmodels.tsa.arima_model import ARIMA\n",
        "\n",
        "def predict_data(data:pd.DataFrame, time_to_predict:int)->pd.DataFrame:\n",
        "  try:\n",
        "    #validate inputs\n",
        "    if time_to_predict < 1:\n",
        "      raise ValueError(\"Time to prdeict should atleat be 1 month\")\n",
        "      \n",
        "    if len(data) < 1:\n",
        "      raise ValueError(\"Empty dataframe recieved\")\n",
        "    \n",
        "    # Set the bookingDate column as the index and convert into a datatime datatype\n",
        "    data['bookingDate'] =pd.to_datetime(data['bookingDate'])\n",
        "    data.index = data['bookingDate']\n",
        "    \n",
        "    #Group the data by month, and take the sum for each  group (i.e each month)\n",
        "    df_sum_amount = data.resample('M').sum()\n",
        "    \n",
        "    #Apply ARIMA model\n",
        "    for x in range(0,time_to_predict):\n",
        "      #fit model\n",
        "      model = ARIMA(df_sum_amount, order=(0,1,1))\n",
        "      model_fit = model.fit(trend='nc', disp=False)\n",
        "      #make prediction\n",
        "      yhat = model_fit.predict(len(df_sum_amount), len(df_sum_amount), typ='levels')\n",
        "      df_sum_amount = df_sum_amount.append(pd.DataFrame({'amount':yhat[0]}, index=[yhat.index[0]]))\n",
        "      \n",
        "    return df_sum_amount\n",
        "  #handling all kinds of exceptions\n",
        "  except BaseException as exception:\n",
        "    print(exception)\n",
        "    return\n",
        "    "
      ],
      "execution_count": 0,
      "outputs": []
    },
    {
      "cell_type": "code",
      "metadata": {
        "id": "ZVPZy4txZpmH",
        "colab_type": "code",
        "outputId": "ec454320-e734-4134-b5a5-de61e5e565da",
        "colab": {
          "base_uri": "https://localhost:8080/",
          "height": 1035
        }
      },
      "source": [
        "#Predicting the income for the next 6 months\n",
        "income_prediction = predict_data(df_income, 6)\n",
        "income_prediction"
      ],
      "execution_count": 0,
      "outputs": [
        {
          "output_type": "stream",
          "text": [
            "/usr/local/lib/python3.6/dist-packages/statsmodels/tsa/base/tsa_model.py:320: FutureWarning: Creating a DatetimeIndex by passing range endpoints is deprecated.  Use `pandas.date_range` instead.\n",
            "  freq=base_index.freq)\n",
            "/usr/local/lib/python3.6/dist-packages/statsmodels/tsa/base/tsa_model.py:171: ValueWarning: No frequency information was provided, so inferred frequency M will be used.\n",
            "  % freq, ValueWarning)\n",
            "/usr/local/lib/python3.6/dist-packages/statsmodels/tsa/base/tsa_model.py:191: FutureWarning: Creating a DatetimeIndex by passing range endpoints is deprecated.  Use `pandas.date_range` instead.\n",
            "  start=index[0], end=index[-1], freq=freq)\n",
            "/usr/local/lib/python3.6/dist-packages/statsmodels/tsa/base/tsa_model.py:171: ValueWarning: No frequency information was provided, so inferred frequency M will be used.\n",
            "  % freq, ValueWarning)\n",
            "/usr/local/lib/python3.6/dist-packages/statsmodels/tsa/base/tsa_model.py:171: ValueWarning: No frequency information was provided, so inferred frequency M will be used.\n",
            "  % freq, ValueWarning)\n",
            "/usr/local/lib/python3.6/dist-packages/statsmodels/tsa/base/tsa_model.py:171: ValueWarning: No frequency information was provided, so inferred frequency M will be used.\n",
            "  % freq, ValueWarning)\n",
            "/usr/local/lib/python3.6/dist-packages/statsmodels/tsa/base/tsa_model.py:171: ValueWarning: No frequency information was provided, so inferred frequency M will be used.\n",
            "  % freq, ValueWarning)\n",
            "/usr/local/lib/python3.6/dist-packages/statsmodels/tsa/base/tsa_model.py:171: ValueWarning: No frequency information was provided, so inferred frequency M will be used.\n",
            "  % freq, ValueWarning)\n",
            "/usr/local/lib/python3.6/dist-packages/statsmodels/tsa/base/tsa_model.py:171: ValueWarning: No frequency information was provided, so inferred frequency M will be used.\n",
            "  % freq, ValueWarning)\n",
            "/usr/local/lib/python3.6/dist-packages/statsmodels/tsa/base/tsa_model.py:171: ValueWarning: No frequency information was provided, so inferred frequency M will be used.\n",
            "  % freq, ValueWarning)\n",
            "/usr/local/lib/python3.6/dist-packages/statsmodels/tsa/base/tsa_model.py:171: ValueWarning: No frequency information was provided, so inferred frequency M will be used.\n",
            "  % freq, ValueWarning)\n",
            "/usr/local/lib/python3.6/dist-packages/statsmodels/tsa/base/tsa_model.py:171: ValueWarning: No frequency information was provided, so inferred frequency M will be used.\n",
            "  % freq, ValueWarning)\n"
          ],
          "name": "stderr"
        },
        {
          "output_type": "execute_result",
          "data": {
            "text/html": [
              "<div>\n",
              "<style scoped>\n",
              "    .dataframe tbody tr th:only-of-type {\n",
              "        vertical-align: middle;\n",
              "    }\n",
              "\n",
              "    .dataframe tbody tr th {\n",
              "        vertical-align: top;\n",
              "    }\n",
              "\n",
              "    .dataframe thead th {\n",
              "        text-align: right;\n",
              "    }\n",
              "</style>\n",
              "<table border=\"1\" class=\"dataframe\">\n",
              "  <thead>\n",
              "    <tr style=\"text-align: right;\">\n",
              "      <th></th>\n",
              "      <th>amount</th>\n",
              "    </tr>\n",
              "  </thead>\n",
              "  <tbody>\n",
              "    <tr>\n",
              "      <th>2015-07-31</th>\n",
              "      <td>4206.000000</td>\n",
              "    </tr>\n",
              "    <tr>\n",
              "      <th>2015-08-31</th>\n",
              "      <td>6317.000000</td>\n",
              "    </tr>\n",
              "    <tr>\n",
              "      <th>2015-09-30</th>\n",
              "      <td>5195.000000</td>\n",
              "    </tr>\n",
              "    <tr>\n",
              "      <th>2015-10-31</th>\n",
              "      <td>24740.000000</td>\n",
              "    </tr>\n",
              "    <tr>\n",
              "      <th>2015-11-30</th>\n",
              "      <td>5140.000000</td>\n",
              "    </tr>\n",
              "    <tr>\n",
              "      <th>2015-12-31</th>\n",
              "      <td>5140.000000</td>\n",
              "    </tr>\n",
              "    <tr>\n",
              "      <th>2016-01-31</th>\n",
              "      <td>5150.000000</td>\n",
              "    </tr>\n",
              "    <tr>\n",
              "      <th>2016-02-29</th>\n",
              "      <td>6140.000000</td>\n",
              "    </tr>\n",
              "    <tr>\n",
              "      <th>2016-03-31</th>\n",
              "      <td>2640.000000</td>\n",
              "    </tr>\n",
              "    <tr>\n",
              "      <th>2016-04-30</th>\n",
              "      <td>4140.000000</td>\n",
              "    </tr>\n",
              "    <tr>\n",
              "      <th>2016-05-31</th>\n",
              "      <td>5140.000000</td>\n",
              "    </tr>\n",
              "    <tr>\n",
              "      <th>2016-06-30</th>\n",
              "      <td>5151.000000</td>\n",
              "    </tr>\n",
              "    <tr>\n",
              "      <th>2016-07-31</th>\n",
              "      <td>6722.397111</td>\n",
              "    </tr>\n",
              "    <tr>\n",
              "      <th>2016-08-31</th>\n",
              "      <td>6591.647592</td>\n",
              "    </tr>\n",
              "    <tr>\n",
              "      <th>2016-09-30</th>\n",
              "      <td>6601.633441</td>\n",
              "    </tr>\n",
              "    <tr>\n",
              "      <th>2016-10-31</th>\n",
              "      <td>6600.926319</td>\n",
              "    </tr>\n",
              "    <tr>\n",
              "      <th>2016-11-30</th>\n",
              "      <td>6600.978383</td>\n",
              "    </tr>\n",
              "    <tr>\n",
              "      <th>2016-12-31</th>\n",
              "      <td>6600.971815</td>\n",
              "    </tr>\n",
              "  </tbody>\n",
              "</table>\n",
              "</div>"
            ],
            "text/plain": [
              "                  amount\n",
              "2015-07-31   4206.000000\n",
              "2015-08-31   6317.000000\n",
              "2015-09-30   5195.000000\n",
              "2015-10-31  24740.000000\n",
              "2015-11-30   5140.000000\n",
              "2015-12-31   5140.000000\n",
              "2016-01-31   5150.000000\n",
              "2016-02-29   6140.000000\n",
              "2016-03-31   2640.000000\n",
              "2016-04-30   4140.000000\n",
              "2016-05-31   5140.000000\n",
              "2016-06-30   5151.000000\n",
              "2016-07-31   6722.397111\n",
              "2016-08-31   6591.647592\n",
              "2016-09-30   6601.633441\n",
              "2016-10-31   6600.926319\n",
              "2016-11-30   6600.978383\n",
              "2016-12-31   6600.971815"
            ]
          },
          "metadata": {
            "tags": []
          },
          "execution_count": 34
        }
      ]
    },
    {
      "cell_type": "code",
      "metadata": {
        "id": "6wzT8pwoZqsk",
        "colab_type": "code",
        "outputId": "968462e3-9e32-4207-9c7c-a82b9d8276a7",
        "colab": {
          "base_uri": "https://localhost:8080/",
          "height": 1035
        }
      },
      "source": [
        "#Predicting the expense for the next 6 months\n",
        "expenditure_prediction = predict_data(df_exp, 6)\n",
        "expenditure_prediction"
      ],
      "execution_count": 0,
      "outputs": [
        {
          "output_type": "stream",
          "text": [
            "/usr/local/lib/python3.6/dist-packages/statsmodels/tsa/base/tsa_model.py:320: FutureWarning: Creating a DatetimeIndex by passing range endpoints is deprecated.  Use `pandas.date_range` instead.\n",
            "  freq=base_index.freq)\n",
            "/usr/local/lib/python3.6/dist-packages/statsmodels/tsa/base/tsa_model.py:171: ValueWarning: No frequency information was provided, so inferred frequency M will be used.\n",
            "  % freq, ValueWarning)\n",
            "/usr/local/lib/python3.6/dist-packages/statsmodels/tsa/base/tsa_model.py:191: FutureWarning: Creating a DatetimeIndex by passing range endpoints is deprecated.  Use `pandas.date_range` instead.\n",
            "  start=index[0], end=index[-1], freq=freq)\n",
            "/usr/local/lib/python3.6/dist-packages/statsmodels/tsa/base/tsa_model.py:171: ValueWarning: No frequency information was provided, so inferred frequency M will be used.\n",
            "  % freq, ValueWarning)\n",
            "/usr/local/lib/python3.6/dist-packages/statsmodels/tsa/base/tsa_model.py:171: ValueWarning: No frequency information was provided, so inferred frequency M will be used.\n",
            "  % freq, ValueWarning)\n",
            "/usr/local/lib/python3.6/dist-packages/statsmodels/tsa/base/tsa_model.py:171: ValueWarning: No frequency information was provided, so inferred frequency M will be used.\n",
            "  % freq, ValueWarning)\n",
            "/usr/local/lib/python3.6/dist-packages/statsmodels/tsa/base/tsa_model.py:171: ValueWarning: No frequency information was provided, so inferred frequency M will be used.\n",
            "  % freq, ValueWarning)\n",
            "/usr/local/lib/python3.6/dist-packages/statsmodels/tsa/base/tsa_model.py:171: ValueWarning: No frequency information was provided, so inferred frequency M will be used.\n",
            "  % freq, ValueWarning)\n",
            "/usr/local/lib/python3.6/dist-packages/statsmodels/tsa/base/tsa_model.py:171: ValueWarning: No frequency information was provided, so inferred frequency M will be used.\n",
            "  % freq, ValueWarning)\n",
            "/usr/local/lib/python3.6/dist-packages/statsmodels/tsa/base/tsa_model.py:171: ValueWarning: No frequency information was provided, so inferred frequency M will be used.\n",
            "  % freq, ValueWarning)\n",
            "/usr/local/lib/python3.6/dist-packages/statsmodels/tsa/base/tsa_model.py:171: ValueWarning: No frequency information was provided, so inferred frequency M will be used.\n",
            "  % freq, ValueWarning)\n",
            "/usr/local/lib/python3.6/dist-packages/statsmodels/tsa/base/tsa_model.py:171: ValueWarning: No frequency information was provided, so inferred frequency M will be used.\n",
            "  % freq, ValueWarning)\n"
          ],
          "name": "stderr"
        },
        {
          "output_type": "execute_result",
          "data": {
            "text/html": [
              "<div>\n",
              "<style scoped>\n",
              "    .dataframe tbody tr th:only-of-type {\n",
              "        vertical-align: middle;\n",
              "    }\n",
              "\n",
              "    .dataframe tbody tr th {\n",
              "        vertical-align: top;\n",
              "    }\n",
              "\n",
              "    .dataframe thead th {\n",
              "        text-align: right;\n",
              "    }\n",
              "</style>\n",
              "<table border=\"1\" class=\"dataframe\">\n",
              "  <thead>\n",
              "    <tr style=\"text-align: right;\">\n",
              "      <th></th>\n",
              "      <th>amount</th>\n",
              "    </tr>\n",
              "  </thead>\n",
              "  <tbody>\n",
              "    <tr>\n",
              "      <th>2015-07-31</th>\n",
              "      <td>-1260.000000</td>\n",
              "    </tr>\n",
              "    <tr>\n",
              "      <th>2015-08-31</th>\n",
              "      <td>-1420.000000</td>\n",
              "    </tr>\n",
              "    <tr>\n",
              "      <th>2015-09-30</th>\n",
              "      <td>-1450.000000</td>\n",
              "    </tr>\n",
              "    <tr>\n",
              "      <th>2015-10-31</th>\n",
              "      <td>-1537.000000</td>\n",
              "    </tr>\n",
              "    <tr>\n",
              "      <th>2015-11-30</th>\n",
              "      <td>-1459.000000</td>\n",
              "    </tr>\n",
              "    <tr>\n",
              "      <th>2015-12-31</th>\n",
              "      <td>-2130.000000</td>\n",
              "    </tr>\n",
              "    <tr>\n",
              "      <th>2016-01-31</th>\n",
              "      <td>-2055.000000</td>\n",
              "    </tr>\n",
              "    <tr>\n",
              "      <th>2016-02-29</th>\n",
              "      <td>-1671.000000</td>\n",
              "    </tr>\n",
              "    <tr>\n",
              "      <th>2016-03-31</th>\n",
              "      <td>-1620.000000</td>\n",
              "    </tr>\n",
              "    <tr>\n",
              "      <th>2016-04-30</th>\n",
              "      <td>-1760.000000</td>\n",
              "    </tr>\n",
              "    <tr>\n",
              "      <th>2016-05-31</th>\n",
              "      <td>-550.000000</td>\n",
              "    </tr>\n",
              "    <tr>\n",
              "      <th>2016-06-30</th>\n",
              "      <td>-3070.000000</td>\n",
              "    </tr>\n",
              "    <tr>\n",
              "      <th>2016-07-31</th>\n",
              "      <td>-1537.463648</td>\n",
              "    </tr>\n",
              "    <tr>\n",
              "      <th>2016-08-31</th>\n",
              "      <td>-1665.166667</td>\n",
              "    </tr>\n",
              "    <tr>\n",
              "      <th>2016-09-30</th>\n",
              "      <td>-1655.343592</td>\n",
              "    </tr>\n",
              "    <tr>\n",
              "      <th>2016-10-31</th>\n",
              "      <td>-1656.045153</td>\n",
              "    </tr>\n",
              "    <tr>\n",
              "      <th>2016-11-30</th>\n",
              "      <td>-1655.998417</td>\n",
              "    </tr>\n",
              "    <tr>\n",
              "      <th>2016-12-31</th>\n",
              "      <td>-1656.001210</td>\n",
              "    </tr>\n",
              "  </tbody>\n",
              "</table>\n",
              "</div>"
            ],
            "text/plain": [
              "                 amount\n",
              "2015-07-31 -1260.000000\n",
              "2015-08-31 -1420.000000\n",
              "2015-09-30 -1450.000000\n",
              "2015-10-31 -1537.000000\n",
              "2015-11-30 -1459.000000\n",
              "2015-12-31 -2130.000000\n",
              "2016-01-31 -2055.000000\n",
              "2016-02-29 -1671.000000\n",
              "2016-03-31 -1620.000000\n",
              "2016-04-30 -1760.000000\n",
              "2016-05-31  -550.000000\n",
              "2016-06-30 -3070.000000\n",
              "2016-07-31 -1537.463648\n",
              "2016-08-31 -1665.166667\n",
              "2016-09-30 -1655.343592\n",
              "2016-10-31 -1656.045153\n",
              "2016-11-30 -1655.998417\n",
              "2016-12-31 -1656.001210"
            ]
          },
          "metadata": {
            "tags": []
          },
          "execution_count": 36
        }
      ]
    },
    {
      "cell_type": "markdown",
      "metadata": {
        "id": "I9nuS-BRhl56",
        "colab_type": "text"
      },
      "source": [
        "B.\t If more users were provided, explain how you would use more user data from other users to give more insight into individual data patterns.\n",
        "\n",
        "**Answer:**  More user data would help in understanding the spending pattern of each user and would also help in predicting the future spending pattern for any new user if additional features are provided. Having more user data help us to create a clusters or segments of users based on their spending patterns.\n",
        "If given additional features of users like the country, living city, age , gender, education, economical status, credit score, purchasing power etc ,by using these additional features we will be able to predict the future spending pattern of any new user or the existing user.\n",
        "\n",
        "\n",
        "C.\tWhat pitfalls do you see in your analysis? Or the techniques used?\"\n",
        "\n",
        "**Answer:** The analysis is mostly restricted by limited data and also the absence of independent features for validation. Given more data samples, machine learning methods like like linear regression, support vector machine or tree based models could be applied to predict the future transactions.\n"
      ]
    },
    {
      "cell_type": "code",
      "metadata": {
        "id": "9cfZX1kdalPH",
        "colab_type": "code",
        "colab": {}
      },
      "source": [
        "#End"
      ],
      "execution_count": 0,
      "outputs": []
    }
  ]
}